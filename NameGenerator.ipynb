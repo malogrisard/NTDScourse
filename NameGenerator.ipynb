{
 "cells": [
  {
   "cell_type": "code",
   "execution_count": 48,
   "metadata": {
    "collapsed": false
   },
   "outputs": [
    {
     "name": "stdout",
     "output_type": "stream",
     "text": [
      "0  :\n",
      "0 a\n",
      "1 a\n",
      "0 b\n",
      "2 ab\n",
      "0 c\n",
      "3\n",
      "0 d\n",
      "3\n",
      "0 e\n",
      "5\n",
      "4 abe\n",
      "0 f\n",
      "2 abef\n",
      "6\n",
      "1  :\n",
      "0 a\n",
      "1 a\n",
      "0 b\n",
      "2 ab\n",
      "0 c\n",
      "3\n",
      "0 d\n",
      "3\n",
      "0 e\n",
      "5\n",
      "4 abe\n",
      "0 f\n",
      "2 abef\n",
      "6\n",
      "2  :\n",
      "0 a\n",
      "1 a\n",
      "0 b\n",
      "2 ab\n",
      "0 c\n",
      "3\n",
      "0 d\n",
      "3\n",
      "0 e\n",
      "5\n",
      "4 abe\n",
      "0 f\n",
      "2 abef\n",
      "6\n",
      "3  :\n",
      "0 a\n",
      "1 a\n",
      "0 b\n",
      "2 ab\n",
      "0 c\n",
      "3\n",
      "0 d\n",
      "3\n",
      "0 e\n",
      "5\n",
      "4 abe\n",
      "0 f\n",
      "2 abef\n",
      "6\n",
      "4  :\n",
      "0 a\n",
      "1 a\n",
      "0 b\n",
      "2 ab\n",
      "0 c\n",
      "3\n",
      "0 d\n",
      "3\n",
      "0 e\n",
      "5\n",
      "4 abe\n",
      "0 f\n",
      "2 abef\n",
      "6\n",
      "5  :\n",
      "0 a\n",
      "1 a\n",
      "0 b\n",
      "2 ab\n",
      "0 c\n",
      "3\n",
      "0 d\n",
      "3\n",
      "0 e\n",
      "5\n",
      "4 abe\n",
      "0 f\n",
      "2 abef\n",
      "6\n",
      "6  :\n",
      "0 a\n",
      "1 a\n",
      "0 b\n",
      "2 ab\n",
      "0 c\n",
      "3\n",
      "0 d\n",
      "3\n",
      "0 e\n",
      "5\n",
      "4 abe\n",
      "0 f\n",
      "2 abef\n",
      "6\n",
      "7  :\n",
      "0 a\n",
      "1 a\n",
      "0 b\n",
      "2 ab\n",
      "0 c\n",
      "3\n",
      "0 d\n",
      "3\n",
      "0 e\n",
      "5\n",
      "4 abe\n",
      "0 f\n",
      "2 abef\n",
      "6\n",
      "8  :\n",
      "0 a\n",
      "1 a\n",
      "0 b\n",
      "2 ab\n",
      "0 c\n",
      "3\n",
      "0 d\n",
      "3\n",
      "0 e\n",
      "5\n",
      "4 abe\n",
      "0 f\n",
      "2 abef\n",
      "6\n",
      "9  :\n",
      "0 a\n",
      "1 a\n",
      "0 b\n",
      "2 ab\n",
      "0 c\n",
      "3\n",
      "0 d\n",
      "3\n",
      "0 e\n",
      "5\n",
      "4 abe\n",
      "0 f\n",
      "2 abef\n",
      "6\n"
     ]
    },
    {
     "data": {
      "text/plain": [
       "['abef',\n",
       " 'abef',\n",
       " 'abef',\n",
       " 'abef',\n",
       " 'abef',\n",
       " 'abef',\n",
       " 'abef',\n",
       " 'abef',\n",
       " 'abef',\n",
       " 'abef']"
      ]
     },
     "execution_count": 48,
     "metadata": {},
     "output_type": "execute_result"
    }
   ],
   "source": [
    "import string\n",
    "\n",
    "Alphabet = list(string.ascii_lowercase)\n",
    "Name = []\n",
    "for x in range(10):\n",
    "    j=1\n",
    "    print(x,' :')\n",
    "    for i in Alphabet:\n",
    "        print('0',i)\n",
    "        if j == 1:\n",
    "            name = i  \n",
    "            j += 1\n",
    "            print('1',name)\n",
    "        elif i != \"e\": #or i != \"e\" or i !=\"i\" or i !=\"o\" or i !=\"u\":\n",
    "            if name[-1:] == \"a\" or name[-1:] ==\"e\" or name[-1:] ==\"i\" or name[-1:] ==\"o\" or name[-1:] ==\"u\":\n",
    "                name = name + i\n",
    "                print('2',name)\n",
    "                j += 1\n",
    "            else:\n",
    "                print('3')\n",
    "        else:\n",
    "            print('5')\n",
    "            if name[-1:] != \"a\" or name[-1:] !=\"e\" or name[-1:] !=\"i\" or name[-1:] !=\"o\" or name[-1:] !=\"u\":\n",
    "                name = name + i\n",
    "                print('4',name)\n",
    "                j += 1\n",
    "            else:\n",
    "                print('5')\n",
    "        if j == 5:\n",
    "            print('6')\n",
    "            break\n",
    "        else:\n",
    "            continue\n",
    "        print(name)\n",
    "    Name.append(name)\n",
    "Name            "
   ]
  },
  {
   "cell_type": "code",
   "execution_count": 44,
   "metadata": {
    "collapsed": false
   },
   "outputs": [
    {
     "name": "stdout",
     "output_type": "stream",
     "text": [
      "d\n"
     ]
    },
    {
     "data": {
      "text/plain": [
       "'d'"
      ]
     },
     "execution_count": 44,
     "metadata": {},
     "output_type": "execute_result"
    }
   ],
   "source": [
    "name = 'aebcd'\n",
    "print(name[-1:])\n",
    "if name[-1:] == \"a\" or name[-1:] == 'e':\n",
    "    name = 'ti'\n",
    "\n",
    "name[-1:]"
   ]
  },
  {
   "cell_type": "code",
   "execution_count": 26,
   "metadata": {
    "collapsed": false
   },
   "outputs": [
    {
     "data": {
      "text/plain": [
       "'t'"
      ]
     },
     "execution_count": 26,
     "metadata": {},
     "output_type": "execute_result"
    }
   ],
   "source": [
    "name = 'rat'\n",
    "name[-1:]"
   ]
  },
  {
   "cell_type": "code",
   "execution_count": null,
   "metadata": {
    "collapsed": true
   },
   "outputs": [],
   "source": []
  }
 ],
 "metadata": {
  "anaconda-cloud": {},
  "kernelspec": {
   "display_name": "Python [default]",
   "language": "python",
   "name": "python3"
  },
  "language_info": {
   "codemirror_mode": {
    "name": "ipython",
    "version": 3
   },
   "file_extension": ".py",
   "mimetype": "text/x-python",
   "name": "python",
   "nbconvert_exporter": "python",
   "pygments_lexer": "ipython3",
   "version": "3.5.2"
  }
 },
 "nbformat": 4,
 "nbformat_minor": 1
}
