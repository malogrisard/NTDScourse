{
 "cells": [
  {
   "cell_type": "markdown",
   "metadata": {},
   "source": [
    "# A Network Tour of Data Science\n",
    "### &nbsp; &nbsp; &nbsp; Xavier Bresson, Winter 2016/17\n",
    "## Exercise 4 - Code 1 : Graph Science\n",
    "## Construct Network of Text Documents  "
   ]
  },
  {
   "cell_type": "code",
   "execution_count": null,
   "metadata": {
    "collapsed": false
   },
   "outputs": [],
   "source": [
    "# Load libraries\n",
    "\n",
    "# Math\n",
    "import numpy as np\n",
    "\n",
    "# Visualization \n",
    "%matplotlib notebook \n",
    "import matplotlib.pyplot as plt\n",
    "plt.rcParams.update({'figure.max_open_warning': 0})\n",
    "from mpl_toolkits.axes_grid1 import make_axes_locatable\n",
    "from scipy import ndimage\n",
    "\n",
    "# High-res visualization (but no rotation possible)\n",
    "%matplotlib inline\n",
    "from IPython.display import set_matplotlib_formats\n",
    "set_matplotlib_formats('png2x','pdf')\n",
    "\n",
    "# Print output of LFR code\n",
    "import subprocess\n",
    "\n",
    "# Sparse matrix\n",
    "import scipy.sparse\n",
    "import scipy.sparse.linalg\n",
    "\n",
    "# 3D visualization\n",
    "import pylab\n",
    "from mpl_toolkits.mplot3d import Axes3D\n",
    "from matplotlib import pyplot\n",
    "\n",
    "# Import data\n",
    "import scipy.io\n",
    "\n",
    "# Import functions in lib folder\n",
    "import sys\n",
    "sys.path.insert(1, 'lib')\n",
    "\n",
    "# Import helper functions\n",
    "%load_ext autoreload\n",
    "%autoreload 2\n",
    "from lib.utils import compute_ncut\n",
    "from lib.utils import reindex_W_with_classes\n",
    "from lib.utils import nldr_visualization\n",
    "from lib.utils import construct_knn_graph\n",
    "from lib.utils import compute_purity\n",
    "\n",
    "# Import distance function\n",
    "import sklearn.metrics.pairwise\n",
    "\n",
    "# Remove warnings\n",
    "import warnings\n",
    "warnings.filterwarnings(\"ignore\")"
   ]
  },
  {
   "cell_type": "code",
   "execution_count": null,
   "metadata": {
    "collapsed": false
   },
   "outputs": [],
   "source": [
    "# Load 10 classes of 4,000 text documents\n",
    "mat = scipy.io.loadmat('datasets/20news_5classes_raw_data.mat')\n",
    "X = mat['X']\n",
    "n = X.shape[0]\n",
    "d = X.shape[1]\n",
    "Cgt = mat['Cgt'] - 1; Cgt = Cgt.squeeze()\n",
    "nc = len(np.unique(Cgt))\n",
    "print('Number of data =',n)\n",
    "print('Data dimensionality =',d);\n",
    "print('Number of classes =',nc);"
   ]
  },
  {
   "cell_type": "markdown",
   "metadata": {},
   "source": [
    "**Question 1a:** Compute the k-NN graph (k=10) with L2/Euclidean distance<br>\n",
    "Hint: You may use the function *W=construct_knn_graph(X,k,'euclidean')*"
   ]
  },
  {
   "cell_type": "code",
   "execution_count": null,
   "metadata": {
    "collapsed": false
   },
   "outputs": [],
   "source": [
    "# Your code here\n",
    "W_euclidean = construct_knn_graph(X,10,'euclidean')\n",
    "print('size of W=',W_euclidean.shape)\n",
    "print('number of edges: {}'.format(W_euclidean.nnz))"
   ]
  },
  {
   "cell_type": "code",
   "execution_count": null,
   "metadata": {
    "collapsed": false
   },
   "outputs": [],
   "source": [
    "plt.spy(W_euclidean, markersize=1)"
   ]
  },
  {
   "cell_type": "markdown",
   "metadata": {
    "collapsed": false
   },
   "source": [
    "**Question 1b:** Plot the adjacency matrix of the graph. <br>\n",
    "Hint: Use function *plt.spy(W, markersize=1)*"
   ]
  },
  {
   "cell_type": "code",
   "execution_count": null,
   "metadata": {
    "collapsed": false
   },
   "outputs": [],
   "source": [
    "# Your code here\n",
    "plt.figure(1)\n",
    "plt.spy(W_euclidean, markersize=1)\n",
    "plt.title('Adjacency Matrix W')\n",
    "plt.show()"
   ]
  },
  {
   "cell_type": "markdown",
   "metadata": {},
   "source": [
    "**Question 1c:** Reindex the adjacency matrix of the graph w.r.t. ground\n",
    "truth communities. Plot the reindexed adjacency matrix of the graph.<br>\n",
    "Hint: You may use the function *[W_reindex,C_classes_reindex]=reindex_W_with_classes(W,C_classes)*."
   ]
  },
  {
   "cell_type": "code",
   "execution_count": null,
   "metadata": {
    "collapsed": true
   },
   "outputs": [],
   "source": [
    "# Your code here\n",
    "[reindexed_W_gt,reindexed_C_gt] = reindex_W_with_classes(W_euclidean,Cgt)"
   ]
  },
  {
   "cell_type": "code",
   "execution_count": null,
   "metadata": {
    "collapsed": false
   },
   "outputs": [],
   "source": [
    "# Your code here\n",
    "plt.figure(2)\n",
    "plt.spy(reindexed_W_gt,markersize=1)\n",
    "plt.title('Adjacency Matrix W indexed according to GROUND TRUTH communities')\n",
    "plt.show()"
   ]
  },
  {
   "cell_type": "markdown",
   "metadata": {},
   "source": [
    "**Question 1d:** Perform graph clustering with NCut technique. What is\n",
    "the clustering accuracy of the NCut solution? What is the clustering\n",
    "accuracy of a random partition? Reindex the adjacency matrix of the\n",
    "graph w.r.t. NCut communities. Plot the reindexed adjacency matrix of\n",
    "the graph.<br>\n",
    "Hint: You may use function *C_ncut, accuracy = compute_ncut(W,C_solution,n_clusters)* that performs Ncut clustering.<br>\n",
    "Hint: You may use function *accuracy = compute_purity(C_computed,C_solution,n_clusters)* that returns the\n",
    "accuracy of a computed partition w.r.t. the ground truth partition. A\n",
    "random partition can be generated with the function *np.random.randint*."
   ]
  },
  {
   "cell_type": "code",
   "execution_count": null,
   "metadata": {
    "collapsed": false
   },
   "outputs": [],
   "source": [
    "# Your code here\n",
    "Cncut,acc = compute_ncut(W_euclidean, Cgt, nc)\n",
    "print('accuracy NCut=',acc)\n",
    "\n",
    "Crandom = np.random.randint(nc,size=(n,1))\n",
    "acc = compute_purity(Crandom,Cgt,nc)\n",
    "print('accuracy Random=',acc)\n",
    "\n",
    "[reindexed_W_ncut,reindexed_C_ncut] = reindex_W_with_classes(W_euclidean,Cncut)\n",
    "\n",
    "plt.figure(3)\n",
    "plt.spy(reindexed_W_ncut, markersize=1)\n",
    "plt.title('Adjacency Matrix W indexed according to NCut communities')\n",
    "plt.show()"
   ]
  },
  {
   "cell_type": "markdown",
   "metadata": {},
   "source": [
    "**Question 2a:** Compute the k-NN graph (k=10) with Cosine distance.<br>\n",
    "Answer to questions 1b-1d for this graph.<br>\n",
    "Hint: You may use function *W=construct_knn_graph(X,10,'cosine')*."
   ]
  },
  {
   "cell_type": "code",
   "execution_count": null,
   "metadata": {
    "collapsed": true
   },
   "outputs": [],
   "source": [
    "# Reload data matrix\n",
    "X = mat['X']"
   ]
  },
  {
   "cell_type": "code",
   "execution_count": null,
   "metadata": {
    "collapsed": false
   },
   "outputs": [],
   "source": [
    "# Your code here\n",
    "# Compute the k-NN graph with Cosine distance\n",
    "W_cosine = construct_knn_graph(X,10,'cosine')\n",
    "print('size of W=',W_cosine.shape)\n",
    "print('number of edges: {}'.format(W_cosine.nnz))"
   ]
  },
  {
   "cell_type": "code",
   "execution_count": null,
   "metadata": {
    "collapsed": false
   },
   "outputs": [],
   "source": [
    "# Your code here\n",
    "plt.figure(11)\n",
    "plt.spy(W_cosine,precision=0.01, markersize=1)\n",
    "plt.title('Adjacency Matrix W')\n",
    "plt.show()"
   ]
  },
  {
   "cell_type": "code",
   "execution_count": null,
   "metadata": {
    "collapsed": false
   },
   "outputs": [],
   "source": [
    "# Your code here\n",
    "[reindexed_W_gt,reindexed_C_gt] = reindex_W_with_classes(W_cosine,Cgt)\n",
    "\n",
    "plt.figure(12)\n",
    "plt.spy(reindexed_W_gt,precision=0.01, markersize=1)\n",
    "plt.title('Adjacency Matrix W indexed according to GROUND TRUTH communities')\n",
    "plt.show()"
   ]
  },
  {
   "cell_type": "code",
   "execution_count": null,
   "metadata": {
    "collapsed": false
   },
   "outputs": [],
   "source": [
    "# Your code here\n",
    "Cncut,acc = compute_ncut(W_cosine, Cgt, nc)\n",
    "print('accuracy NCut=',acc)\n",
    "\n",
    "Crandom = np.random.randint(nc,size=(n,1))\n",
    "acc = compute_purity(Crandom,Cgt,nc)\n",
    "print('accuracy Random=',acc)\n",
    "\n",
    "[reindexed_W_ncut,reindexed_C_ncut] = reindex_W_with_classes(W_cosine,Cncut)\n",
    "\n",
    "plt.figure(13)\n",
    "plt.spy(reindexed_W_ncut,precision=0.01, markersize=1)\n",
    "plt.title('Adjacency Matrix W indexed according to NCut communities')\n",
    "plt.show()"
   ]
  },
  {
   "cell_type": "markdown",
   "metadata": {},
   "source": [
    "**Question 2b:** Visualize the adjacency matrix with the non-linear reduction\n",
    "technique in 2D and 3D. <br>\n",
    "Hint: You may use function *[X,Y,Z] = nldr_visualization(W)*.<br>\n",
    "Hint: You may use function *plt.scatter(X,Y,c=Cncut)* for 2D visualization and *ax.scatter(X,Y,Z,c=Cncut)* for 3D visualization."
   ]
  },
  {
   "cell_type": "code",
   "execution_count": null,
   "metadata": {
    "collapsed": false,
    "scrolled": false
   },
   "outputs": [],
   "source": [
    "# Your code here\n",
    "[X,Y,Z] = nldr_visualization(W_cosine)\n",
    "\n",
    "plt.figure(14)\n",
    "size_vertex_plot = 10\n",
    "plt.scatter(X, Y, s=size_vertex_plot*np.ones(n), c=Cncut)\n",
    "plt.title('2D Visualization')\n",
    "plt.show()\n",
    "\n",
    "# 3D Visualization\n",
    "fig = pylab.figure(15)\n",
    "ax = Axes3D(fig)\n",
    "ax.scatter(X, Y, Z, c=Cncut)\n",
    "pylab.title('3D Visualization')\n",
    "pyplot.show()"
   ]
  },
  {
   "cell_type": "code",
   "execution_count": null,
   "metadata": {
    "collapsed": true
   },
   "outputs": [],
   "source": []
  }
 ],
 "metadata": {
  "kernelspec": {
   "display_name": "Python 3",
   "language": "python",
   "name": "python3"
  },
  "language_info": {
   "codemirror_mode": {
    "name": "ipython",
    "version": 3
   },
   "file_extension": ".py",
   "mimetype": "text/x-python",
   "name": "python",
   "nbconvert_exporter": "python",
   "pygments_lexer": "ipython3",
   "version": "3.5.2"
  }
 },
 "nbformat": 4,
 "nbformat_minor": 0
}
