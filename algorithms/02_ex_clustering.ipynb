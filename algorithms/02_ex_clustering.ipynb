{
 "cells": [
  {
   "cell_type": "markdown",
   "metadata": {},
   "source": [
    "# A Network Tour of Data Science\n",
    "### &nbsp; &nbsp; &nbsp; Xavier Bresson, Winter 2016/17\n",
    "## Exercise 4 - Code 2 : Unsupervised Learning\n",
    "## Unsupervised Clustering with Kernel K-Means  "
   ]
  },
  {
   "cell_type": "code",
   "execution_count": 2,
   "metadata": {
    "collapsed": false
   },
   "outputs": [],
   "source": [
    "# Load libraries\n",
    "\n",
    "# Math\n",
    "import numpy as np\n",
    "\n",
    "# Visualization \n",
    "%matplotlib notebook \n",
    "import matplotlib.pyplot as plt\n",
    "plt.rcParams.update({'figure.max_open_warning': 0})\n",
    "from mpl_toolkits.axes_grid1 import make_axes_locatable\n",
    "from scipy import ndimage\n",
    "\n",
    "# Print output of LFR code\n",
    "import subprocess\n",
    "\n",
    "# Sparse matrix\n",
    "import scipy.sparse\n",
    "import scipy.sparse.linalg\n",
    "\n",
    "# 3D visualization\n",
    "import pylab\n",
    "from mpl_toolkits.mplot3d import Axes3D\n",
    "from matplotlib import pyplot\n",
    "\n",
    "# Import data\n",
    "import scipy.io\n",
    "\n",
    "# Import functions in lib folder\n",
    "import sys\n",
    "sys.path.insert(1, 'lib')\n",
    "\n",
    "# Import helper functions\n",
    "%load_ext autoreload\n",
    "%autoreload 2\n",
    "from lib.utils import construct_kernel\n",
    "from lib.utils import compute_kernel_kmeans_EM\n",
    "from lib.utils import compute_kernel_kmeans_spectral\n",
    "from lib.utils import compute_purity\n",
    "\n",
    "# Import distance function\n",
    "import sklearn.metrics.pairwise\n",
    "\n",
    "# Remove warnings\n",
    "import warnings\n",
    "warnings.filterwarnings(\"ignore\")"
   ]
  },
  {
   "cell_type": "code",
   "execution_count": 3,
   "metadata": {
    "collapsed": false
   },
   "outputs": [
    {
     "name": "stdout",
     "output_type": "stream",
     "text": [
      "Number of data = 2000\n",
      "Data dimensionality = 784\n",
      "Number of classes = 10\n"
     ]
    }
   ],
   "source": [
    "# Load MNIST raw data images\n",
    "mat = scipy.io.loadmat('datasets/mnist_raw_data.mat')\n",
    "X = mat['Xraw']\n",
    "n = X.shape[0]\n",
    "d = X.shape[1]\n",
    "Cgt = mat['Cgt'] - 1; Cgt = Cgt.squeeze()\n",
    "nc = len(np.unique(Cgt))\n",
    "print('Number of data =',n)\n",
    "print('Data dimensionality =',d);\n",
    "print('Number of classes =',nc);"
   ]
  },
  {
   "cell_type": "markdown",
   "metadata": {},
   "source": [
    "**Question 1a:** What is the clustering accuracy of standard/linear K-Means?<br>\n",
    "Hint: You may use functions *Ker=construct_kernel(X,'linear')* to compute the\n",
    "linear kernel and *[C_kmeans, En_kmeans]=compute_kernel_kmeans_EM(n_classes,Ker,Theta,10)* with *Theta= np.ones(n)* to run the standard K-Means algorithm, and *accuracy = compute_purity(C_computed,C_solution,n_clusters)* that returns the\n",
    "accuracy."
   ]
  },
  {
   "cell_type": "code",
   "execution_count": 5,
   "metadata": {
    "collapsed": false
   },
   "outputs": [
    {
     "name": "stdout",
     "output_type": "stream",
     "text": [
      "Construct Linear Kernel\n",
      "C_kmeans [4 4 7 ..., 6 5 2]\n",
      "En_kmeans= 1.82192602392\n",
      "accuracy =  12.8\n"
     ]
    }
   ],
   "source": [
    "Ker=construct_kernel(X,'linear')\n",
    "Theta= np.ones(n)\n",
    "n_clusters = 8\n",
    "[C_solution, En_solution]=compute_kernel_kmeans_EM(nc,Ker,Theta,10)\n",
    "[C_kmeans, En_kmeans]=compute_kernel_kmeans_EM(n_clusters,Ker,Theta,10)\n",
    "C_computed = C_kmeans\n",
    "print('C_kmeans',C_kmeans);\n",
    "print('En_kmeans=',En_kmeans);\n",
    "accuracy = compute_purity(C_computed,Cgt,nc)\n",
    "print('accuracy = ',accuracy);"
   ]
  },
  {
   "cell_type": "code",
   "execution_count": null,
   "metadata": {
    "collapsed": false
   },
   "outputs": [],
   "source": []
  },
  {
   "cell_type": "markdown",
   "metadata": {
    "collapsed": false
   },
   "source": [
    "**Question 1b:** What is the clustering accuracy for the kernel K-Means algorithm with<br>\n",
    "(1) Gaussian Kernel for the EM approach and the Spectral approach?<br>\n",
    "(2) Polynomial Kernel for the EM approach and the Spectral approach?<br>\n",
    "Hint: You may use functions *Ker=construct_kernel(X,'gaussian')* and *Ker=construct_kernel(X,'polynomial',[1,0,2])* to compute the non-linear kernels<br>\n",
    "Hint: You may use functions *C_kmeans,__ = compute_kernel_kmeans_EM(K,Ker,Theta,10)* for the EM kernel KMeans algorithm and *C_kmeans,__ = compute_kernel_kmeans_spectral(K,Ker,Theta,10)* for the Spectral kernel K-Means algorithm.<br>"
   ]
  },
  {
   "cell_type": "code",
   "execution_count": 6,
   "metadata": {
    "collapsed": false
   },
   "outputs": [
    {
     "name": "stdout",
     "output_type": "stream",
     "text": [
      "Construct Gaussian Kernel\n",
      "C_kmeans [0 2 5 ..., 2 3 7]\n",
      "En_kmeans= 0.772257521499\n",
      "accuracy =  50.05\n"
     ]
    }
   ],
   "source": [
    "Ker=construct_kernel(X,'gaussian')\n",
    "Theta= np.ones(n)\n",
    "n_clusters = 8\n",
    "[C_solution, En_solution]=compute_kernel_kmeans_EM(nc,Ker,Theta,10)\n",
    "[C_kmeans, En_kmeans]=compute_kernel_kmeans_EM(n_clusters,Ker,Theta,10)\n",
    "C_computed = C_kmeans\n",
    "print('C_kmeans',C_kmeans);\n",
    "print('En_kmeans=',En_kmeans);\n",
    "accuracy = compute_purity(C_computed,Cgt,nc)\n",
    "print('accuracy = ',accuracy);"
   ]
  },
  {
   "cell_type": "code",
   "execution_count": 7,
   "metadata": {
    "collapsed": false
   },
   "outputs": [
    {
     "name": "stdout",
     "output_type": "stream",
     "text": [
      "Construct Polynomial Kernel\n",
      "C_kmeans [5 1 2 ..., 6 0 1]\n",
      "En_kmeans= 0.89094735792\n",
      "accuracy =  68.45\n"
     ]
    }
   ],
   "source": [
    "Ker=construct_kernel(X,'polynomial',[1,0,2])\n",
    "Theta= np.ones(n)\n",
    "n_clusters = 8\n",
    "[C_solution, En_solution]=compute_kernel_kmeans_EM(nc,Ker,Theta,10)\n",
    "[C_kmeans, En_kmeans]=compute_kernel_kmeans_EM(n_clusters,Ker,Theta,10)\n",
    "C_computed = C_kmeans\n",
    "print('C_kmeans',C_kmeans);\n",
    "print('En_kmeans=',En_kmeans);\n",
    "accuracy = compute_purity(C_computed,C_solution,n_clusters)\n",
    "print('accuracy = ',accuracy);"
   ]
  },
  {
   "cell_type": "markdown",
   "metadata": {
    "collapsed": false
   },
   "source": [
    "**Question 1c:** What is the clustering accuracy for the kernel K-Means algorithm with<br>\n",
    "(1) KNN_Gaussian Kernel for the EM approach and the Spectral approach?<br>\n",
    "(2) KNN_Cosine_Binary Kernel for the EM approach and the Spectral approach?<br>\n",
    "You can test for the value KNN_kernel=50.<br>\n",
    "Hint: You may use functions *Ker = construct_kernel(X,'kNN_gaussian',KNN_kernel)*\n",
    "and *Ker = construct_kernel(X,'kNN_cosine_binary',KNN_kernel)* to compute the\n",
    "non-linear kernels."
   ]
  },
  {
   "cell_type": "code",
   "execution_count": 13,
   "metadata": {
    "collapsed": false
   },
   "outputs": [
    {
     "name": "stdout",
     "output_type": "stream",
     "text": [
      "Construct kNN Gaussian Kernel\n",
      "C_kmeans [4 7 6 ..., 3 8 6]\n",
      "En_kmeans= 0.878689197027\n",
      "accuracy =  55.50000000000001\n"
     ]
    }
   ],
   "source": [
    "KNN_kernel = 50;\n",
    "Ker = construct_kernel(X,'kNN_gaussian',50)\n",
    "Theta= np.ones(n)\n",
    "n_clusters = 8\n",
    "[C_solution, En_solution]=compute_kernel_kmeans_EM(nc,Ker,Theta,10)\n",
    "[C_kmeans, En_kmeans]=compute_kernel_kmeans_EM(nc,Ker,Theta,10)\n",
    "C_computed = C_kmeans\n",
    "print('C_kmeans',C_kmeans);\n",
    "print('En_kmeans=',En_kmeans);\n",
    "accuracy = compute_purity(C_computed,Cgt,nc)\n",
    "print('accuracy = ',accuracy);\n"
   ]
  },
  {
   "cell_type": "code",
   "execution_count": 15,
   "metadata": {
    "collapsed": false
   },
   "outputs": [
    {
     "name": "stdout",
     "output_type": "stream",
     "text": [
      "Construct kNN Cosine Binary Kernel\n",
      "accuracy =  62.64999999999999\n"
     ]
    }
   ],
   "source": [
    "KNN_kernel = 50;\n",
    "Ker = construct_kernel(X,'kNN_cosine_binary',KNN_kernel) \n",
    "[C_kmeans, En_kmeans]=compute_kernel_kmeans_EM(nc,Ker,Theta,10)\n",
    "C_computed = C_kmeans\n",
    "accuracy = compute_purity(C_computed,Cgt,nc)\n",
    "print('accuracy = ',accuracy);"
   ]
  },
  {
   "cell_type": "code",
   "execution_count": null,
   "metadata": {
    "collapsed": true
   },
   "outputs": [],
   "source": []
  }
 ],
 "metadata": {
  "anaconda-cloud": {},
  "kernelspec": {
   "display_name": "Python [default]",
   "language": "python",
   "name": "python3"
  },
  "language_info": {
   "codemirror_mode": {
    "name": "ipython",
    "version": 3
   },
   "file_extension": ".py",
   "mimetype": "text/x-python",
   "name": "python",
   "nbconvert_exporter": "python",
   "pygments_lexer": "ipython3",
   "version": "3.5.2"
  }
 },
 "nbformat": 4,
 "nbformat_minor": 0
}
