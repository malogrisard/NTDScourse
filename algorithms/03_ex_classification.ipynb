{
 "cells": [
  {
   "cell_type": "markdown",
   "metadata": {},
   "source": [
    "# A Network Tour of Data Science\n",
    "### &nbsp; &nbsp; &nbsp; Xavier Bresson, Winter 2016/17\n",
    "## Exercise 3 : Baseline Classification Techniques"
   ]
  },
  {
   "cell_type": "code",
   "execution_count": 14,
   "metadata": {
    "collapsed": true
   },
   "outputs": [],
   "source": [
    "# Load libraries\n",
    "import numpy as np # Math\n",
    "import scipy.io # Import data\n",
    "import time\n",
    "import sklearn.neighbors, sklearn.linear_model, sklearn.ensemble, sklearn.naive_bayes, sklearn.metrics # Baseline classification techniques\n",
    "import matplotlib.pyplot as plt"
   ]
  },
  {
   "cell_type": "code",
   "execution_count": 23,
   "metadata": {
    "collapsed": false
   },
   "outputs": [
    {
     "name": "stdout",
     "output_type": "stream",
     "text": [
      "X_train size= (200, 7939)\n",
      "X_test size= (200, 7939)\n",
      "y_train size= (200,)\n",
      "y_test size= (200,)\n"
     ]
    }
   ],
   "source": [
    "# Load 400 text documents representing 5 classes\n",
    "# X_train matrix contains the training data\n",
    "# y_train vector contains the training labels\n",
    "# X_test matrix contains the test data\n",
    "# y_test vector contains the test labels\n",
    "[X_train, y_train, X_test, y_test] = np.load('datasets/20news_5classes_400docs.npy')\n",
    "print('X_train size=',X_train.shape)\n",
    "print('X_test size=',X_test.shape)\n",
    "print('y_train size=',y_train.shape)\n",
    "print('y_test size=',y_test.shape)"
   ]
  },
  {
   "cell_type": "markdown",
   "metadata": {},
   "source": [
    "### Question 1a: Run the following baseline classification techniques:\n",
    "* k-NN classifier: You may use *sklearn.neighbors.KNeighborsClassifier()*\n",
    "* Linear SVM classifier: You may use *sklearn.svm.LinearSVC()*\n",
    "* Logistic Regression classifier: You may use *sklearn.linear_model.LogisticRegression()*\n",
    "* Random Forest classifier: You may use *sklearn.ensemble.RandomForestClassifier()*\n",
    "* Ridge classifier: You may use *sklearn.linear_model.RidgeClassifier()*\n",
    "* Naive Bayes classifier with Bernoulli: You may use *sklearn.naive_bayes.BernoulliNB()*\n",
    "* Naive Bayes classifier with Multinomial: You may use *sklearn.naive_bayes.MultinomialNB()*\n",
    "\n",
    "### Question 1b: \n",
    "* Print accuracy for train dataset and test dataset: You may use function *sklearn.metrics.accuracy_score()*\n",
    "* Print the computational time to train each model: You may use commands *t_start = time.process_time()*, and *exec_time = time.process_time() - t_start*"
   ]
  },
  {
   "cell_type": "code",
   "execution_count": null,
   "metadata": {
    "collapsed": false
   },
   "outputs": [],
   "source": []
  },
  {
   "cell_type": "code",
   "execution_count": 3,
   "metadata": {
    "collapsed": false
   },
   "outputs": [
    {
     "name": "stdout",
     "output_type": "stream",
     "text": [
      "train_accuracy 0.255\n",
      "test_accuracy 0.395\n",
      "exec_time 0.018635999999999875\n"
     ]
    }
   ],
   "source": [
    "t_start = time.process_time()\n",
    "neigh = sklearn.neighbors.KNeighborsClassifier(n_neighbors=5)\n",
    "neigh.fit(X_train, y_train) \n",
    "y_predTest = neigh.predict(X_train)\n",
    "train_accuracy = sklearn.metrics.accuracy_score(y_test, y_predTest)\n",
    "y_pred = neigh.predict(X_test)\n",
    "test_accuracy = sklearn.metrics.accuracy_score(y_test, y_pred)\n",
    "exec_time = time.process_time() - t_start\n",
    "print('train_accuracy',train_accuracy)\n",
    "print('test_accuracy',test_accuracy)\n",
    "print('exec_time',exec_time)"
   ]
  },
  {
   "cell_type": "code",
   "execution_count": 4,
   "metadata": {
    "collapsed": false
   },
   "outputs": [
    {
     "name": "stdout",
     "output_type": "stream",
     "text": [
      "train_accuracy 0.17\n",
      "test_accuracy 0.89\n",
      "exec_time 0.014839999999999964\n"
     ]
    }
   ],
   "source": [
    "t_start = time.process_time()\n",
    "neigh = sklearn.svm.LinearSVC(penalty='l2', loss='squared_hinge', dual=True, tol=0.0001, C=1.0, multi_class='ovr', fit_intercept=True, intercept_scaling=1, class_weight=None, verbose=0, random_state=None, max_iter=1000)\n",
    "neigh.fit(X_train, y_train) \n",
    "y_predTest = neigh.predict(X_train)\n",
    "train_accuracy = sklearn.metrics.accuracy_score(y_test, y_predTest)\n",
    "y_pred = neigh.predict(X_test)\n",
    "test_accuracy = sklearn.metrics.accuracy_score(y_test, y_pred)\n",
    "exec_time = time.process_time() - t_start\n",
    "print('train_accuracy',train_accuracy)\n",
    "print('test_accuracy',test_accuracy)\n",
    "print('exec_time',exec_time)"
   ]
  },
  {
   "cell_type": "code",
   "execution_count": 5,
   "metadata": {
    "collapsed": false
   },
   "outputs": [
    {
     "name": "stdout",
     "output_type": "stream",
     "text": [
      "train_accuracy 0.945\n",
      "test_accuracy 0.4\n",
      "exec_time 0.08986500000000053\n"
     ]
    }
   ],
   "source": [
    "t_start = time.process_time()\n",
    "neigh = sklearn.linear_model.LogisticRegression()\n",
    "neigh.fit(X_train, y_train) \n",
    "y_predTest = neigh.predict(X_train)\n",
    "train_accuracy = sklearn.metrics.accuracy_score(y_train, y_predTest)\n",
    "y_pred = neigh.predict(X_test)\n",
    "test_accuracy = sklearn.metrics.accuracy_score(y_test, y_pred)\n",
    "exec_time = time.process_time() - t_start\n",
    "print('train_accuracy',train_accuracy)\n",
    "print('test_accuracy',test_accuracy)\n",
    "print('exec_time',exec_time)"
   ]
  },
  {
   "cell_type": "code",
   "execution_count": 6,
   "metadata": {
    "collapsed": false
   },
   "outputs": [
    {
     "name": "stdout",
     "output_type": "stream",
     "text": [
      "train_accuracy 0.17\n",
      "test_accuracy 0.6\n",
      "exec_time 0.1242829999999997\n"
     ]
    }
   ],
   "source": [
    "t_start = time.process_time()\n",
    "neigh = sklearn.ensemble.RandomForestClassifier()\n",
    "neigh.fit(X_train, y_train) \n",
    "y_predTest = neigh.predict(X_train)\n",
    "train_accuracy = sklearn.metrics.accuracy_score(y_test, y_predTest)\n",
    "y_pred = neigh.predict(X_test)\n",
    "test_accuracy = sklearn.metrics.accuracy_score(y_test, y_pred)\n",
    "exec_time = time.process_time() - t_start\n",
    "print('train_accuracy',train_accuracy)\n",
    "print('test_accuracy',test_accuracy)\n",
    "print('exec_time',exec_time)"
   ]
  },
  {
   "cell_type": "code",
   "execution_count": 7,
   "metadata": {
    "collapsed": false
   },
   "outputs": [
    {
     "name": "stdout",
     "output_type": "stream",
     "text": [
      "train_accuracy 0.17\n",
      "test_accuracy 0.86\n",
      "exec_time 0.07446799999999953\n"
     ]
    }
   ],
   "source": [
    "t_start = time.process_time()\n",
    "neigh = sklearn.linear_model.RidgeClassifier()\n",
    "neigh.fit(X_train, y_train) \n",
    "y_predTest = neigh.predict(X_train)\n",
    "train_accuracy = sklearn.metrics.accuracy_score(y_test, y_predTest)\n",
    "y_pred = neigh.predict(X_test)\n",
    "test_accuracy = sklearn.metrics.accuracy_score(y_test, y_pred)\n",
    "exec_time = time.process_time() - t_start\n",
    "print('train_accuracy',train_accuracy)\n",
    "print('test_accuracy',test_accuracy)\n",
    "print('exec_time',exec_time)"
   ]
  },
  {
   "cell_type": "code",
   "execution_count": 8,
   "metadata": {
    "collapsed": false
   },
   "outputs": [
    {
     "name": "stdout",
     "output_type": "stream",
     "text": [
      "train_accuracy 0.185\n",
      "test_accuracy 0.585\n",
      "exec_time 0.025198000000000054\n"
     ]
    }
   ],
   "source": [
    "t_start = time.process_time()\n",
    "neigh = sklearn.naive_bayes.BernoulliNB()\n",
    "neigh.fit(X_train, y_train) \n",
    "y_predTest = neigh.predict(X_train)\n",
    "train_accuracy = sklearn.metrics.accuracy_score(y_test, y_predTest)\n",
    "y_pred = neigh.predict(X_test)\n",
    "test_accuracy = sklearn.metrics.accuracy_score(y_test, y_pred)\n",
    "exec_time = time.process_time() - t_start\n",
    "print('train_accuracy',train_accuracy)\n",
    "print('test_accuracy',test_accuracy)\n",
    "print('exec_time',exec_time)"
   ]
  },
  {
   "cell_type": "code",
   "execution_count": 9,
   "metadata": {
    "collapsed": false
   },
   "outputs": [
    {
     "name": "stdout",
     "output_type": "stream",
     "text": [
      "train_accuracy 0.16\n",
      "test_accuracy 0.51\n",
      "exec_time 0.01383999999999963\n"
     ]
    }
   ],
   "source": [
    "t_start = time.process_time()\n",
    "neigh = sklearn.naive_bayes.MultinomialNB()\n",
    "neigh.fit(X_train, y_train) \n",
    "y_predTest = neigh.predict(X_train)\n",
    "train_accuracy = sklearn.metrics.accuracy_score(y_test, y_predTest)\n",
    "y_pred = neigh.predict(X_test)\n",
    "test_accuracy = sklearn.metrics.accuracy_score(y_test, y_pred)\n",
    "exec_time = time.process_time() - t_start\n",
    "print('train_accuracy',train_accuracy)\n",
    "print('test_accuracy',test_accuracy)\n",
    "print('exec_time',exec_time)"
   ]
  },
  {
   "cell_type": "markdown",
   "metadata": {},
   "source": [
    "Observe the best result. What is the best technique?<br> \n",
    "Do you think the other classification techniques are not as efficient?<br> \n",
    "Should you believe all blackbox data analysis techniques?\n",
    "\n",
    "Let us consider one classification technique like logistic regression:<br>\n",
    "    *model = sklearn.linear_model.LogisticRegression(C=C_value)*<br>\n",
    "and its hyperparamater C, which is the trade-off between the data term and the regularization term.\n",
    "\n",
    "### Question 2: Estimate the hyperparameter C of the logistic regression classifier by cross-validation "
   ]
  },
  {
   "cell_type": "markdown",
   "metadata": {},
   "source": [
    "### Question 2a: First, split the training set into 5 folds\n",
    "\n",
    "Hint: You may use the function *np.array_split()*"
   ]
  },
  {
   "cell_type": "code",
   "execution_count": 27,
   "metadata": {
    "collapsed": false
   },
   "outputs": [],
   "source": [
    "num_folds = 5 \n",
    "X_train = X_train.toarray()\n",
    "#Y_train = X_train.toarray()\n",
    "X_train_folds = np.array_split(X_train,num_folds)\n",
    "Y_train_folds = np.array_split(y_train,num_folds)"
   ]
  },
  {
   "cell_type": "markdown",
   "metadata": {},
   "source": [
    "Values of the hyperparameter C:"
   ]
  },
  {
   "cell_type": "code",
   "execution_count": 28,
   "metadata": {
    "collapsed": true
   },
   "outputs": [],
   "source": [
    "C_choices = [1e-2, 5*1e-2, 1e-1, 5*1e-1, 1e0, 5*1e0, 1e1, 5*1e1, 1e2, 5*1e2, 1e3, 5*1e3]\n",
    "num_Cs = len(C_choices)"
   ]
  },
  {
   "cell_type": "markdown",
   "metadata": {},
   "source": [
    "### Question 2b: Compute the accuracy for all folds and all hyperparameter values (and store it for example in a tab like *accuracy_tab*)"
   ]
  },
  {
   "cell_type": "code",
   "execution_count": 31,
   "metadata": {
    "collapsed": false,
    "scrolled": false
   },
   "outputs": [
    {
     "name": "stdout",
     "output_type": "stream",
     "text": [
      "[[ 0.425  0.425  0.45   0.6    0.65   0.825  0.825  0.85   0.85   0.875\n",
      "   0.875  0.875]\n",
      " [ 0.225  0.225  0.225  0.25   0.35   0.625  0.725  0.8    0.825  0.85\n",
      "   0.775  0.675]\n",
      " [ 0.175  0.175  0.175  0.175  0.2    0.575  0.675  0.8    0.8    0.8\n",
      "   0.775  0.7  ]\n",
      " [ 0.25   0.25   0.25   0.4    0.45   0.775  0.8    0.8    0.8    0.825\n",
      "   0.8    0.75 ]\n",
      " [ 0.2    0.2    0.2    0.225  0.25   0.55   0.675  0.825  0.825  0.775\n",
      "   0.725  0.625]]\n"
     ]
    }
   ],
   "source": [
    "accuracy_tab = np.zeros([num_folds,num_Cs])\n",
    "\n",
    "for C_idx, C_value in enumerate(C_choices):\n",
    "\n",
    "    for fold_idx in range(num_folds):\n",
    "        \n",
    "        # Extract train dataset for the current fold\n",
    "        fold_x_train = np.concatenate([X_train_folds[i] for i in range(num_folds) if i!=fold_idx])       \n",
    "        fold_y_train = np.concatenate([Y_train_folds[i] for i in range(num_folds) if i!=fold_idx]) \n",
    "\n",
    "        # Extract validation dataset for the current fold\n",
    "        fold_x_val  = X_train_folds[fold_idx]\n",
    "        fold_y_val  = Y_train_folds[fold_idx]\n",
    "        \n",
    "        # Run Logistic Regression model for the current fold\n",
    "        neigh = sklearn.linear_model.LogisticRegression(C = C_value)\n",
    "        #neigh.fit(fold_x_val, fold_y_val)\n",
    "        neigh.fit(fold_x_train, fold_y_train)\n",
    "        y_predVal = neigh.predict(fold_x_val)\n",
    "        \n",
    "        #check overfitting\n",
    "        y_predTrain = neigh.predict(fold_x_train)\n",
    "        #print('y_predTrain',sklearn.metrics.accuracy_score(fold_y_train,y_predTrain))\n",
    "        accuracy = sklearn.metrics.accuracy_score(fold_y_val, y_predVal)\n",
    "        \n",
    "        # Store accuracy value\n",
    "        accuracy_tab[fold_idx,C_idx] = accuracy\n",
    "\n",
    "print(accuracy_tab)"
   ]
  },
  {
   "cell_type": "markdown",
   "metadata": {},
   "source": [
    "### Question 2c: Plot the following:\n",
    "* The accuracy values for all folds and all hyperparameter values\n",
    "* The mean and standard deviation accuracies over the folds for all hyperparameter values\n",
    "\n",
    "Hint: You may use the function *plt.scatter(), np.mean(), np.std(), plt.errorbar(), plt.show()*"
   ]
  },
  {
   "cell_type": "code",
   "execution_count": 32,
   "metadata": {
    "collapsed": false
   },
   "outputs": [
    {
     "data": {
      "image/png": "[encoded data removed]",
      "text/plain": [
       "<matplotlib.figure.Figure at 0x113585470>"
      ]
     },
     "metadata": {},
     "output_type": "display_data"
    }
   ],
   "source": [
    "# plot the raw observations\n",
    "\n",
    "for C_idx, C_value in enumerate(C_choices):\n",
    "    accuracies_C_idx = accuracy_tab[:,C_idx]\n",
    "\n",
    "    plt.scatter(np.ones(5)*np.log(C_value),accuracies_C_idx)\n",
    "    \n",
    "# plot the trend line with error bars that correspond to standard deviation\n",
    "accuracies_mean = np.mean(accuracy_tab,axis=0)\n",
    "accuracies_std =  np.std(accuracy_tab,axis=0)\n",
    "plt.errorbar(np.log(C_choices), accuracies_mean, yerr=accuracies_std)\n",
    "\n",
    "# Add text\n",
    "plt.title('Cross-validation on C')\n",
    "plt.xlabel('log C')\n",
    "plt.ylabel('Cross-validation accuracy')\n",
    "\n",
    "plt.show()"
   ]
  },
  {
   "cell_type": "markdown",
   "metadata": {},
   "source": [
    "### Question 2d: Based on the cross-validation results above, choose the best value for C and apply it on the test set. What is the accuracy for the best C value?\n",
    "\n",
    "Did we beat the best technique above? or not?\n",
    "\n",
    "Hint: You may use the function *np.argmax()*"
   ]
  },
  {
   "cell_type": "code",
   "execution_count": null,
   "metadata": {
    "collapsed": false
   },
   "outputs": [],
   "source": [
    "idx_best_C = 9\n",
    "neigh = sklearn.linear_model.LogisticRegression(C=C_choices[idx_best_C])\n",
    "neigh.fit(X_train, y_train) \n",
    "train_accuracy = sklearn.metrics.accuracy_score(y_test, y_predTest)\n",
    "y_pred = neigh.predict(X_test)\n",
    "accuracy_testset = sklearn.metrics.accuracy_score(y_test, y_pred)\n",
    "print('best accuracy=',accuracy_testset)"
   ]
  },
  {
   "cell_type": "code",
   "execution_count": null,
   "metadata": {
    "collapsed": true
   },
   "outputs": [],
   "source": []
  }
 ],
 "metadata": {
  "anaconda-cloud": {},
  "kernelspec": {
   "display_name": "Python [default]",
   "language": "python",
   "name": "python3"
  },
  "language_info": {
   "codemirror_mode": {
    "name": "ipython",
    "version": 3
   },
   "file_extension": ".py",
   "mimetype": "text/x-python",
   "name": "python",
   "nbconvert_exporter": "python",
   "pygments_lexer": "ipython3",
   "version": "3.5.2"
  }
 },
 "nbformat": 4,
 "nbformat_minor": 0
}
