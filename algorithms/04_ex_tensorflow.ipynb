{
 "cells": [
  {
   "cell_type": "markdown",
   "metadata": {},
   "source": [
    "# A Network Tour of Data Science\n",
    "### &nbsp; &nbsp; &nbsp; Xavier Bresson, Winter 2016/17\n",
    "## Exercise 4 : Introduction to TensorFlow"
   ]
  },
  {
   "cell_type": "code",
   "execution_count": null,
   "metadata": {
    "collapsed": false
   },
   "outputs": [],
   "source": [
    "# Import libraries\n",
    "import tensorflow as tf\n",
    "import numpy as np\n",
    "import time\n",
    "import collections\n",
    "import os"
   ]
  },
  {
   "cell_type": "code",
   "execution_count": null,
   "metadata": {
    "collapsed": false
   },
   "outputs": [],
   "source": [
    "# Import MNIST data with TensorFlow\n",
    "from tensorflow.examples.tutorials.mnist import input_data\n",
    "mnist = input_data.read_data_sets(os.path.join('datasets', 'mnist'), one_hot=True) # load data in local folder\n",
    "\n",
    "train_data = mnist.train.images.astype(np.float32)\n",
    "train_labels = mnist.train.labels\n",
    "\n",
    "test_data = mnist.test.images.astype(np.float32)\n",
    "test_labels = mnist.test.labels\n",
    "\n",
    "print(train_data.shape)\n",
    "print(train_labels.shape)\n",
    "print(test_data.shape)\n",
    "print(test_labels.shape)"
   ]
  },
  {
   "cell_type": "markdown",
   "metadata": {},
   "source": [
    "## 1st Step: Construct Computational Graph"
   ]
  },
  {
   "cell_type": "markdown",
   "metadata": {},
   "source": [
    "### Question 1: Prepare the input variables (x,y_label) of the computational graph\n",
    "\n",
    "Hint: You may use the function *tf.placeholder()*"
   ]
  },
  {
   "cell_type": "code",
   "execution_count": null,
   "metadata": {
    "collapsed": false
   },
   "outputs": [],
   "source": [
    "# computational graph inputs\n",
    "batch_size = 100\n",
    "d = train_data.shape[1]\n",
    "nc = 10\n",
    "x = tf.placeholder(tf.float32,[batch_size,d]); print('x=',x,x.get_shape())\n",
    "y_label = YOUR CODE HERE"
   ]
  },
  {
   "cell_type": "markdown",
   "metadata": {},
   "source": [
    "### Question 2: Prepare the variables (W,b) of the computational graph\n",
    "\n",
    "Hint: You may use the function *tf.Variable(), tf.truncated_normal()*"
   ]
  },
  {
   "cell_type": "code",
   "execution_count": null,
   "metadata": {
    "collapsed": false
   },
   "outputs": [],
   "source": [
    "# computational graph variables\n",
    "initial = tf.truncated_normal([d,nc], stddev=0.1); W = tf.Variable(initial); print('W=',W.get_shape())\n",
    "b = YOUR CODE HERE"
   ]
  },
  {
   "cell_type": "markdown",
   "metadata": {},
   "source": [
    "### Question 3: Compute the classifier such that\n",
    "$$\n",
    "y=softmax(Wx +b)\n",
    "$$\n",
    "\n",
    "Hint: You may use the function *tf.matmul(), tf.nn.softmax()*"
   ]
  },
  {
   "cell_type": "code",
   "execution_count": null,
   "metadata": {
    "collapsed": false
   },
   "outputs": [],
   "source": [
    "# Construct CG / output value\n",
    "y = YOUR CODE HERE; print('y1=',y,y.get_shape())\n",
    "y += b; print('y2=',y,y.get_shape())\n",
    "y = YOUR CODE HERE; print('y3=',y,y.get_shape())"
   ]
  },
  {
   "cell_type": "markdown",
   "metadata": {},
   "source": [
    "### Question 4: Construct the loss of the computational graph such that\n",
    "$$\n",
    "loss = cross\\ entropy(y_{label},y) =  mean_{all\\ data} \\ \\sum_{all\\ classes} -\\ y_{label}.\\log(y)\n",
    "$$"
   ]
  },
  {
   "cell_type": "code",
   "execution_count": null,
   "metadata": {
    "collapsed": false
   },
   "outputs": [],
   "source": [
    "# Loss\n",
    "cross_entropy = tf.reduce_mean(-tf.reduce_sum(YOUR CODE HERE * tf.log(YOUR CODE HERE), 1))"
   ]
  },
  {
   "cell_type": "markdown",
   "metadata": {},
   "source": [
    "### Question 5: Construct the L2 regularization of (W,b) to the computational graph such that\n",
    "$$\n",
    "R(W) = \\|W\\|_2^2\\\\\n",
    "R(b) = \\|b\\|_2^2\n",
    "$$\n",
    "\n",
    "Hint: You may use the function *tf.nn.l2_loss()*"
   ]
  },
  {
   "cell_type": "code",
   "execution_count": null,
   "metadata": {
    "collapsed": false
   },
   "outputs": [],
   "source": [
    "reg_loss = YOUR CODE HERE"
   ]
  },
  {
   "cell_type": "markdown",
   "metadata": {},
   "source": [
    "### Question 6: Form the total loss\n",
    "$$\n",
    "total\\ loss = cross\\ entropy(y_{label},y) + reg\\_par* (R(W) + R(b))\n",
    "$$"
   ]
  },
  {
   "cell_type": "code",
   "execution_count": null,
   "metadata": {
    "collapsed": true
   },
   "outputs": [],
   "source": [
    "reg_par = 1e-3\n",
    "total_loss = YOUR CODE HERE"
   ]
  },
  {
   "cell_type": "markdown",
   "metadata": {},
   "source": [
    "### Question 7: Perform optimization of the total loss for learning weight variables of the computational graph\n",
    "\n",
    "Hint: You may use the function *tf.train.GradientDescentOptimizer(learning_rate).minimize(total_loss)*"
   ]
  },
  {
   "cell_type": "code",
   "execution_count": null,
   "metadata": {
    "collapsed": true
   },
   "outputs": [],
   "source": [
    "# Update CG variables / backward pass\n",
    "train_step = YOUR CODE HERE"
   ]
  },
  {
   "cell_type": "markdown",
   "metadata": {},
   "source": [
    "### Question 8: Evaluate the accuracy\n",
    "\n",
    "Hint: You may use the function *tf.equal(tf.argmax(y,1), tf.argmax(y_label,1))*"
   ]
  },
  {
   "cell_type": "code",
   "execution_count": null,
   "metadata": {
    "collapsed": false
   },
   "outputs": [],
   "source": [
    "# Accuracy\n",
    "correct_prediction = YOUR CODE HERE\n",
    "accuracy = tf.reduce_mean(tf.cast(correct_prediction, tf.float32))"
   ]
  },
  {
   "cell_type": "markdown",
   "metadata": {},
   "source": [
    "## 2nd Step: Run the Computational Graph with batches of training data\n",
    "Check out the accuracy of test set"
   ]
  },
  {
   "cell_type": "code",
   "execution_count": null,
   "metadata": {
    "collapsed": true
   },
   "outputs": [],
   "source": [
    "# Create test set \n",
    "idx = np.random.permutation(test_data.shape[0]) # rand permutation\n",
    "idx = idx[:batch_size]\n",
    "test_x, test_y = test_data[idx,:], test_labels[idx]"
   ]
  },
  {
   "cell_type": "code",
   "execution_count": null,
   "metadata": {
    "collapsed": false,
    "scrolled": false
   },
   "outputs": [],
   "source": [
    "n = train_data.shape[0]\n",
    "indices = collections.deque()\n",
    "\n",
    "# Running Computational Graph\n",
    "init = tf.initialize_all_variables()\n",
    "sess = tf.Session()\n",
    "sess.run(init)\n",
    "for i in range(50):\n",
    "    \n",
    "    # Batch extraction\n",
    "    if len(indices) < batch_size:\n",
    "        indices.extend(np.random.permutation(n)) # rand permutation\n",
    "    idx = [indices.popleft() for i in range(batch_size)] # extract n_batch data\n",
    "    batch_x, batch_y = train_data[idx,:], train_labels[idx]\n",
    "    \n",
    "    # Run CG for variable training\n",
    "    _,acc_train,total_loss_o = sess.run([train_step,accuracy,total_loss], feed_dict={x: batch_x, y_label: batch_y})\n",
    "    print('\\nIteration i=',i,', train accuracy=',acc_train,', loss=',total_loss_o)\n",
    "    \n",
    "    # Run CG for testset\n",
    "    acc_test = sess.run(accuracy, feed_dict={x: test_x, y_label: test_y})\n",
    "    print('test accuracy=',acc_test)\n",
    "    "
   ]
  }
 ],
 "metadata": {
  "kernelspec": {
   "display_name": "Python 3",
   "language": "python",
   "name": "python3"
  },
  "language_info": {
   "codemirror_mode": {
    "name": "ipython",
    "version": 3
   },
   "file_extension": ".py",
   "mimetype": "text/x-python",
   "name": "python",
   "nbconvert_exporter": "python",
   "pygments_lexer": "ipython3",
   "version": "3.5.2"
  }
 },
 "nbformat": 4,
 "nbformat_minor": 0
}
