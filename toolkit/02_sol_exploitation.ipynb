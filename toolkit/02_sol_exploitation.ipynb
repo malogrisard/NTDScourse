{
 "cells": [
  {
   "cell_type": "markdown",
   "metadata": {},
   "source": [
    "# A Python Tour of Data Science: Data Exploitation\n",
    "\n",
    "[Michaël Defferrard](http://deff.ch), *PhD student*, [EPFL](http://epfl.ch) [LTS2](http://lts2.epfl.ch)"
   ]
  },
  {
   "cell_type": "markdown",
   "metadata": {},
   "source": [
    "# Exercise: problem definition\n",
    "\n",
    "Theme of the exercise: **understand the impact of your communication on social networks**. A real life situation: the marketing team needs help in identifying which were the most engaging posts they made on social platforms to prepare their next [AdWords](https://www.google.com/adwords/) campaign.\n",
    "\n",
    "This notebook is the second part of the exercise. Given the data we collected from Facebook an Twitter in the last exercise, we will construct an ML model and evaluate how good it is to predict the number of likes of a post / tweet given the content."
   ]
  },
  {
   "cell_type": "markdown",
   "metadata": {},
   "source": [
    "# 1 Data importation\n",
    "\n",
    "1. Use `pandas` to import the `facebook.sqlite` and `twitter.sqlite` databases.\n",
    "2. Print the 5 first rows of both tables.\n",
    "\n",
    "The `facebook.sqlite` and `twitter.sqlite` SQLite databases can be created by running the [data acquisition and exploration exercise](01_sol_acquisition_exploration.ipynb)."
   ]
  },
  {
   "cell_type": "code",
   "execution_count": 1,
   "metadata": {
    "collapsed": false
   },
   "outputs": [
    {
     "data": {
      "text/html": [
       "<div>\n",
       "<table border=\"1\" class=\"dataframe\">\n",
       "  <thead>\n",
       "    <tr style=\"text-align: right;\">\n",
       "      <th></th>\n",
       "      <th>id</th>\n",
       "      <th>text</th>\n",
       "      <th>time</th>\n",
       "      <th>likes</th>\n",
       "      <th>comments</th>\n",
       "    </tr>\n",
       "    <tr>\n",
       "      <th>index</th>\n",
       "      <th></th>\n",
       "      <th></th>\n",
       "      <th></th>\n",
       "      <th></th>\n",
       "      <th></th>\n",
       "    </tr>\n",
       "  </thead>\n",
       "  <tbody>\n",
       "    <tr>\n",
       "      <th>0</th>\n",
       "      <td>995189307173864_1569040983122024</td>\n",
       "      <td>HelloTomorrow - showcasing flooring as a servi...</td>\n",
       "      <td>2016-10-14 10:41:42</td>\n",
       "      <td>3</td>\n",
       "      <td>0</td>\n",
       "    </tr>\n",
       "    <tr>\n",
       "      <th>1</th>\n",
       "      <td>995189307173864_1567048186654637</td>\n",
       "      <td>Amongst the TOP500 worldwide tech startups #pa...</td>\n",
       "      <td>2016-10-13 07:12:08</td>\n",
       "      <td>49</td>\n",
       "      <td>0</td>\n",
       "    </tr>\n",
       "    <tr>\n",
       "      <th>2</th>\n",
       "      <td>995189307173864_1530528866973236</td>\n",
       "      <td>Meet Technis at Beaulieu Lausanne  #comptoirsu...</td>\n",
       "      <td>2016-09-17 12:02:44</td>\n",
       "      <td>32</td>\n",
       "      <td>0</td>\n",
       "    </tr>\n",
       "    <tr>\n",
       "      <th>3</th>\n",
       "      <td>995189307173864_1526804424012347</td>\n",
       "      <td>Le gagnant du concours Technis au Comptoir Sui...</td>\n",
       "      <td>2016-09-14 07:44:17</td>\n",
       "      <td>0</td>\n",
       "      <td>8</td>\n",
       "    </tr>\n",
       "    <tr>\n",
       "      <th>4</th>\n",
       "      <td>995189307173864_1489719734387483</td>\n",
       "      <td>Gold for 🇦🇷Del Potro🇦🇷 or 🇬🇧Murray🇬🇧?</td>\n",
       "      <td>2016-08-14 20:46:05</td>\n",
       "      <td>6</td>\n",
       "      <td>0</td>\n",
       "    </tr>\n",
       "  </tbody>\n",
       "</table>\n",
       "</div>"
      ],
      "text/plain": [
       "                                     id  \\\n",
       "index                                     \n",
       "0      995189307173864_1569040983122024   \n",
       "1      995189307173864_1567048186654637   \n",
       "2      995189307173864_1530528866973236   \n",
       "3      995189307173864_1526804424012347   \n",
       "4      995189307173864_1489719734387483   \n",
       "\n",
       "                                                    text                time  \\\n",
       "index                                                                          \n",
       "0      HelloTomorrow - showcasing flooring as a servi... 2016-10-14 10:41:42   \n",
       "1      Amongst the TOP500 worldwide tech startups #pa... 2016-10-13 07:12:08   \n",
       "2      Meet Technis at Beaulieu Lausanne  #comptoirsu... 2016-09-17 12:02:44   \n",
       "3      Le gagnant du concours Technis au Comptoir Sui... 2016-09-14 07:44:17   \n",
       "4                  Gold for 🇦🇷Del Potro🇦🇷 or 🇬🇧Murray🇬🇧? 2016-08-14 20:46:05   \n",
       "\n",
       "       likes  comments  \n",
       "index                   \n",
       "0          3         0  \n",
       "1         49         0  \n",
       "2         32         0  \n",
       "3          0         8  \n",
       "4          6         0  "
      ]
     },
     "metadata": {},
     "output_type": "display_data"
    },
    {
     "data": {
      "text/html": [
       "<div>\n",
       "<table border=\"1\" class=\"dataframe\">\n",
       "  <thead>\n",
       "    <tr style=\"text-align: right;\">\n",
       "      <th></th>\n",
       "      <th>id</th>\n",
       "      <th>text</th>\n",
       "      <th>time</th>\n",
       "      <th>likes</th>\n",
       "      <th>shares</th>\n",
       "    </tr>\n",
       "    <tr>\n",
       "      <th>index</th>\n",
       "      <th></th>\n",
       "      <th></th>\n",
       "      <th></th>\n",
       "      <th></th>\n",
       "      <th></th>\n",
       "    </tr>\n",
       "  </thead>\n",
       "  <tbody>\n",
       "    <tr>\n",
       "      <th>0</th>\n",
       "      <td>789383850921078784</td>\n",
       "      <td>RT @MyTechnis: @MyTechnis Flooring as a servic...</td>\n",
       "      <td>2016-10-21 08:32:30</td>\n",
       "      <td>0</td>\n",
       "      <td>6</td>\n",
       "    </tr>\n",
       "    <tr>\n",
       "      <th>1</th>\n",
       "      <td>786851711008837632</td>\n",
       "      <td>@MyTechnis Flooring as a service (FaaS) enchan...</td>\n",
       "      <td>2016-10-14 08:50:41</td>\n",
       "      <td>8</td>\n",
       "      <td>6</td>\n",
       "    </tr>\n",
       "    <tr>\n",
       "      <th>2</th>\n",
       "      <td>786837466120654848</td>\n",
       "      <td>RT @wikbou: Innovation is changing the world. ...</td>\n",
       "      <td>2016-10-14 07:54:05</td>\n",
       "      <td>0</td>\n",
       "      <td>1</td>\n",
       "    </tr>\n",
       "    <tr>\n",
       "      <th>3</th>\n",
       "      <td>786837128466554880</td>\n",
       "      <td>RT @MaHo_Pallini: \"Make sure your entrepreneur...</td>\n",
       "      <td>2016-10-14 07:52:44</td>\n",
       "      <td>0</td>\n",
       "      <td>1</td>\n",
       "    </tr>\n",
       "    <tr>\n",
       "      <th>4</th>\n",
       "      <td>786490290932547584</td>\n",
       "      <td>RT @Innovaud: Bravo! Technis @MyTechnis déjà p...</td>\n",
       "      <td>2016-10-13 08:54:32</td>\n",
       "      <td>0</td>\n",
       "      <td>2</td>\n",
       "    </tr>\n",
       "  </tbody>\n",
       "</table>\n",
       "</div>"
      ],
      "text/plain": [
       "                       id                                               text  \\\n",
       "index                                                                          \n",
       "0      789383850921078784  RT @MyTechnis: @MyTechnis Flooring as a servic...   \n",
       "1      786851711008837632  @MyTechnis Flooring as a service (FaaS) enchan...   \n",
       "2      786837466120654848  RT @wikbou: Innovation is changing the world. ...   \n",
       "3      786837128466554880  RT @MaHo_Pallini: \"Make sure your entrepreneur...   \n",
       "4      786490290932547584  RT @Innovaud: Bravo! Technis @MyTechnis déjà p...   \n",
       "\n",
       "                     time  likes  shares  \n",
       "index                                     \n",
       "0     2016-10-21 08:32:30      0       6  \n",
       "1     2016-10-14 08:50:41      8       6  \n",
       "2     2016-10-14 07:54:05      0       1  \n",
       "3     2016-10-14 07:52:44      0       1  \n",
       "4     2016-10-13 08:54:32      0       2  "
      ]
     },
     "metadata": {},
     "output_type": "display_data"
    }
   ],
   "source": [
    "import pandas as pd\n",
    "import numpy as np\n",
    "from IPython.display import display\n",
    "import os.path\n",
    "\n",
    "folder = os.path.join('..', 'data', 'social_media')\n",
    "\n",
    "fb = pd.read_sql('facebook', 'sqlite:///' + os.path.join(folder, 'facebook.sqlite'), index_col='index')\n",
    "tw = pd.read_sql('twitter', 'sqlite:///' + os.path.join(folder, 'twitter.sqlite'), index_col='index')\n",
    "\n",
    "display(fb[:5])\n",
    "display(tw[:5])"
   ]
  },
  {
   "cell_type": "markdown",
   "metadata": {},
   "source": [
    "# 2 Vectorization\n",
    "\n",
    "First step: transform the data into a format understandable by the machine. What to do with text ? A common choice is the so-called [*bag-of-word*](https://en.wikipedia.org/wiki/Bag-of-words_model) model, where we represent each word a an integer and simply count the number of appearances of a word into a document.\n",
    "\n",
    "**Example**\n",
    "\n",
    "Let's say we have a vocabulary represented by the following correspondance table.\n",
    "\n",
    "| Integer | Word    |\n",
    "|:-------:|---------|\n",
    "|    0    | unknown |\n",
    "|    1    | dog     |\n",
    "|    2    | school  |\n",
    "|    3    | cat     |\n",
    "|    4    | house   |\n",
    "|    5    | work    |\n",
    "|    6    | animal  |\n",
    "\n",
    "Then we can represent the following document\n",
    "> I have a cat. Cats are my preferred animals.\n",
    "\n",
    "by the vector $x = [6, 0, 0, 2, 0, 0, 1]^T$.\n",
    "\n",
    "**Tasks**\n",
    "\n",
    "1. Construct a vocabulary of the 100 most occuring words in your dataset.\n",
    "2. Build a vector $x \\in \\mathbb{R}^{100}$ for each document (post or tweet).\n",
    "\n",
    "Tip: the natural language modeling libraries [nltk](http://www.nltk.org/) and [gensim](https://radimrehurek.com/gensim/) are useful for advanced operations. You don't need them here.\n",
    "\n",
    "Arise a first *data cleaning* question. We may have some text in french and other in english. What do we do ?"
   ]
  },
  {
   "cell_type": "code",
   "execution_count": 2,
   "metadata": {
    "collapsed": false
   },
   "outputs": [
    {
     "data": {
      "text/plain": [
       "<52x200 sparse matrix of type '<class 'numpy.int64'>'\n",
       "\twith 602 stored elements in Compressed Sparse Row format>"
      ]
     },
     "metadata": {},
     "output_type": "display_data"
    },
    {
     "data": {
      "text/plain": [
       "['play',\n",
       " 'positions',\n",
       " 'possibility',\n",
       " 'potentially',\n",
       " 'potro',\n",
       " 'pour',\n",
       " 'ppllulxlpy',\n",
       " 'première',\n",
       " 'presentation',\n",
       " 'prize']"
      ]
     },
     "metadata": {},
     "output_type": "display_data"
    },
    {
     "data": {
      "text/plain": [
       "<77x200 sparse matrix of type '<class 'numpy.int64'>'\n",
       "\twith 760 stored elements in Compressed Sparse Row format>"
      ]
     },
     "metadata": {},
     "output_type": "display_data"
    }
   ],
   "source": [
    "from sklearn.feature_extraction.text import CountVectorizer\n",
    "\n",
    "nwords = 200  # 100\n",
    "\n",
    "def compute_bag_of_words(text, nwords):\n",
    "    vectorizer = CountVectorizer(max_features=nwords)\n",
    "    vectors = vectorizer.fit_transform(text)\n",
    "    vocabulary = vectorizer.get_feature_names()\n",
    "    return vectors, vocabulary\n",
    "\n",
    "fb_bow, fb_vocab = compute_bag_of_words(fb.text, nwords)\n",
    "#fb_p = pd.Panel({'orig': fb, 'bow': fb_bow})\n",
    "display(fb_bow)\n",
    "display(fb_vocab[100:110])\n",
    "\n",
    "tw_bow, tw_vocab = compute_bag_of_words(tw.text, nwords)\n",
    "display(tw_bow)"
   ]
  },
  {
   "cell_type": "markdown",
   "metadata": {},
   "source": [
    "Exploration question: what are the 5 most used words ? Exploring your data while playing with it is a useful sanity check."
   ]
  },
  {
   "cell_type": "code",
   "execution_count": 3,
   "metadata": {
    "collapsed": false
   },
   "outputs": [
    {
     "name": "stdout",
     "output_type": "stream",
     "text": [
      "04gv3nwwyv\n",
      "co\n",
      "https\n",
      "mytechnis\n",
      "rt\n",
      "the\n",
      "technis\n",
      "of\n",
      "for\n",
      "http\n",
      "---\n",
      "000\n",
      "the\n",
      "technis\n",
      "to\n",
      "http\n",
      "and\n",
      "co\n",
      "https\n",
      "of\n",
      "for\n"
     ]
    }
   ],
   "source": [
    "def print_most_frequent(bow, vocab, n=10):\n",
    "    idx = np.argsort(bow.sum(axis=0))\n",
    "    for i in range(10):\n",
    "        j = idx[0, -i]\n",
    "        print(vocab[j])\n",
    "\n",
    "print_most_frequent(tw_bow, tw_vocab)\n",
    "print('---')\n",
    "print_most_frequent(fb_bow, fb_vocab)"
   ]
  },
  {
   "cell_type": "markdown",
   "metadata": {},
   "source": [
    "# 3 Pre-processing\n",
    "\n",
    "1. The independant variables $X$ are the bags of words.\n",
    "2. The target $y$ is the number of likes.\n",
    "3. Split in half for training and testing sets."
   ]
  },
  {
   "cell_type": "code",
   "execution_count": 4,
   "metadata": {
    "collapsed": false
   },
   "outputs": [
    {
     "name": "stdout",
     "output_type": "stream",
     "text": [
      "(77, 200)\n",
      "(77,)\n"
     ]
    }
   ],
   "source": [
    "X = tw_bow\n",
    "y = tw['likes'].values\n",
    "\n",
    "n, d = X.shape\n",
    "assert n == y.size\n",
    "\n",
    "print(X.shape)\n",
    "print(y.shape)"
   ]
  },
  {
   "cell_type": "code",
   "execution_count": 5,
   "metadata": {
    "collapsed": false
   },
   "outputs": [
    {
     "name": "stdout",
     "output_type": "stream",
     "text": [
      "Split: 38 testing and 39 training samples\n"
     ]
    }
   ],
   "source": [
    "# Training and testing sets.\n",
    "test_size = n // 2\n",
    "print('Split: {} testing and {} training samples'.format(test_size, y.size - test_size))\n",
    "perm = np.random.permutation(y.size)\n",
    "X_test  = X[perm[:test_size]]\n",
    "X_train = X[perm[test_size:]]\n",
    "y_test  = y[perm[:test_size]]\n",
    "y_train = y[perm[test_size:]]"
   ]
  },
  {
   "cell_type": "markdown",
   "metadata": {},
   "source": [
    "# 4 Linear regression\n",
    "\n",
    "Using `numpy`, fit and evaluate the [linear model](https://en.wikipedia.org/wiki/Linear_regression) $$\\hat{w}, \\hat{b} = \\operatorname*{arg min}_{w,b} \\| Xw + b - y \\|_2^2.$$\n",
    "\n",
    "Please define a class `LinearRegression` with two methods:\n",
    "1. `fit` learn the parameters $w$ and $b$ of the model given the training examples.\n",
    "2. `predict` gives the estimated number of likes of a post / tweet. That will be used to evaluate the model on the testing set.\n",
    "\n",
    "To evaluate the classifier, create an `accuracy(y_pred, y_true)` function which computes the mean squared error $\\frac1n \\| \\hat{y} - y \\|_2^2$.\n",
    "\n",
    "Hint: you may want to use the function `scipy.sparse.linalg.spsolve()`."
   ]
  },
  {
   "cell_type": "markdown",
   "metadata": {},
   "source": [
    "If `solve` and `spsolve` tells you that your matrix is singular, please read this [good comment](http://stats.stackexchange.com/questions/70899/what-correlation-makes-a-matrix-singular-and-what-are-implications-of-singularit). Potential solutions:\n",
    "1. Is there any post / tweet without any word from the vocabulary ? I.e. a row of $X$ made only of zeroes. If yes, remove this row or enlarge the vocabulary.\n",
    "2. Identify and remove redundant features, i.e. words, who are linear combinations of others.\n",
    "3. What else could we do ?"
   ]
  },
  {
   "cell_type": "code",
   "execution_count": 13,
   "metadata": {
    "collapsed": false
   },
   "outputs": [
    {
     "name": "stdout",
     "output_type": "stream",
     "text": [
      "mse: nan\n"
     ]
    },
    {
     "name": "stderr",
     "output_type": "stream",
     "text": [
      "/Users/malogrisard/anaconda/lib/python3.5/site-packages/scipy/sparse/linalg/dsolve/linsolve.py:155: MatrixRankWarning: Matrix is exactly singular\n",
      "  warn(\"Matrix is exactly singular\", MatrixRankWarning)\n"
     ]
    }
   ],
   "source": [
    "import scipy.sparse\n",
    "\n",
    "class LinearRegression(object):\n",
    "    \n",
    "    def predict(self, X):\n",
    "        \"\"\"Return the predicted class given the features.\"\"\"\n",
    "        return X.dot(self.w) + self.b\n",
    "    \n",
    "    def fit(self, X, y):\n",
    "        \"\"\"Learn the model's parameters given the training data, the closed-form way.\"\"\"\n",
    "        n, d = X.shape\n",
    "        self.b = y.mean()\n",
    "        A = X.T.dot(X)\n",
    "        b = X.T.dot(y - self.b)\n",
    "        #self.w = np.linalg.solve(A, b)\n",
    "        self.w = scipy.sparse.linalg.spsolve(A, b)\n",
    "\n",
    "def evaluate(y_pred, y_true):\n",
    "    return np.linalg.norm(y_pred - y_true, ord=2)**2 / y_true.size\n",
    "\n",
    "model = LinearRegression()\n",
    "model.fit(X_train, y_train)\n",
    "y_pred = model.predict(X_test)\n",
    "\n",
    "mse = evaluate(y_pred, y_test)\n",
    "print('mse: {:.4f}'.format(mse))"
   ]
  },
  {
   "cell_type": "markdown",
   "metadata": {},
   "source": [
    "Interpretation: what are the most important words a post / tweet should include ?"
   ]
  },
  {
   "cell_type": "code",
   "execution_count": 7,
   "metadata": {
    "collapsed": false
   },
   "outputs": [
    {
     "name": "stdout",
     "output_type": "stream",
     "text": [
      "weight:   nan, word: your\n",
      "weight:   nan, word: minister\n",
      "weight:   nan, word: par\n",
      "weight:   nan, word: our\n",
      "weight:   nan, word: or\n",
      "weight:   nan, word: on\n",
      "weight:   nan, word: of\n",
      "weight:   nan, word: night\n",
      "weight:   nan, word: next\n",
      "weight:   nan, word: nadal\n",
      "weight:   nan, word: mytechnis\n",
      "weight:   nan, word: more\n",
      "weight:   nan, word: merci\n",
      "weight:   nan, word: you\n",
      "weight:   nan, word: masschallengech\n",
      "weight:   nan, word: maho_pallini\n",
      "weight:   nan, word: live\n",
      "weight:   nan, word: les\n",
      "weight:   nan, word: lavercup\n",
      "weight:   nan, word: laver\n"
     ]
    }
   ],
   "source": [
    "idx = np.argsort(abs(model.w))\n",
    "\n",
    "for i in range(20):\n",
    "    j = idx[-1-i]\n",
    "    print('weight: {:5.2f}, word: {}'.format(model.w[j], tw_vocab[j]))"
   ]
  },
  {
   "cell_type": "markdown",
   "metadata": {},
   "source": [
    "# 5 Interactivity\n",
    "\n",
    "1. Create a slider for the number of words, i.e. the dimensionality of the samples $x$.\n",
    "2. Print the accuracy for each change on the slider."
   ]
  },
  {
   "cell_type": "code",
   "execution_count": 8,
   "metadata": {
    "collapsed": false
   },
   "outputs": [
    {
     "name": "stdout",
     "output_type": "stream",
     "text": [
      "nwords = 200\n",
      "mse: nan\n"
     ]
    },
    {
     "name": "stderr",
     "output_type": "stream",
     "text": [
      "/Users/malogrisard/anaconda/lib/python3.5/site-packages/scipy/sparse/linalg/dsolve/linsolve.py:155: MatrixRankWarning: Matrix is exactly singular\n",
      "  warn(\"Matrix is exactly singular\", MatrixRankWarning)\n"
     ]
    }
   ],
   "source": [
    "import ipywidgets\n",
    "from IPython.display import clear_output\n",
    "\n",
    "slider = ipywidgets.widgets.IntSlider(\n",
    "    value=1,\n",
    "    min=1,\n",
    "    max=nwords,\n",
    "    step=1,\n",
    "    description='nwords',\n",
    ")\n",
    "\n",
    "def handle(change):\n",
    "    \"\"\"Handler for value change: fit model and print performance.\"\"\"\n",
    "    nwords = change['new']\n",
    "    clear_output()\n",
    "    print('nwords = {}'.format(nwords))\n",
    "    model = LinearRegression()\n",
    "    model.fit(X_train[:, :nwords], y_train)\n",
    "    y_pred = model.predict(X_test[:, :nwords])\n",
    "    mse = evaluate(y_pred, y_test)\n",
    "    print('mse: {:.4f}'.format(mse))\n",
    "\n",
    "slider.observe(handle, names='value')\n",
    "display(slider)\n",
    "\n",
    "slider.value = nwords  # As if someone moved the slider."
   ]
  },
  {
   "cell_type": "markdown",
   "metadata": {},
   "source": [
    "# 6 Scikit learn\n",
    "\n",
    "1. Fit and evaluate the linear regression model using `sklearn`.\n",
    "2. Evaluate the model with the mean squared error metric provided by `sklearn`.\n",
    "3. Compare with your implementation."
   ]
  },
  {
   "cell_type": "code",
   "execution_count": 9,
   "metadata": {
    "collapsed": false
   },
   "outputs": [
    {
     "name": "stdout",
     "output_type": "stream",
     "text": [
      "mse: 21.1223\n"
     ]
    }
   ],
   "source": [
    "from sklearn import linear_model, metrics\n",
    "\n",
    "model = linear_model.LinearRegression()\n",
    "model.fit(X_train, y_train)\n",
    "y_pred = model.predict(X_test)\n",
    "\n",
    "mse = metrics.mean_squared_error(y_test, y_pred)\n",
    "assert np.allclose(evaluate(y_pred, y_test), mse)\n",
    "print('mse: {:.4f}'.format(mse))"
   ]
  },
  {
   "cell_type": "markdown",
   "metadata": {},
   "source": [
    "# 7 Deep Learning\n",
    "\n",
    "Try a simple deep learning model !\n",
    "\n",
    "Another modeling choice would be to use a Recurrent Neural Network (RNN) and feed it the sentence words after words."
   ]
  },
  {
   "cell_type": "code",
   "execution_count": 10,
   "metadata": {
    "collapsed": false
   },
   "outputs": [
    {
     "name": "stderr",
     "output_type": "stream",
     "text": [
      "Using Theano backend.\n",
      "WARNING (theano.configdefaults): g++ not detected ! Theano will be unable to execute optimized C-implementations (for both CPU and GPU) and will default to Python implementations. Performance will be severely degraded. To remove this warning, set Theano flags cxx to an empty string.\n"
     ]
    },
    {
     "name": "stdout",
     "output_type": "stream",
     "text": [
      "Epoch 1/20\n",
      "39/39 [==============================] - 0s - loss: 15.3521\n",
      "Epoch 2/20\n",
      "39/39 [==============================] - 0s - loss: 14.6964\n",
      "Epoch 3/20\n",
      "39/39 [==============================] - 0s - loss: 13.9968\n",
      "Epoch 4/20\n",
      "39/39 [==============================] - 0s - loss: 13.3878\n",
      "Epoch 5/20\n",
      "39/39 [==============================] - 0s - loss: 12.8100\n",
      "Epoch 6/20\n",
      "39/39 [==============================] - 0s - loss: 12.2525\n",
      "Epoch 7/20\n",
      "39/39 [==============================] - 0s - loss: 11.7433\n",
      "Epoch 8/20\n",
      "39/39 [==============================] - 0s - loss: 11.2761\n",
      "Epoch 9/20\n",
      "39/39 [==============================] - 0s - loss: 10.8619\n",
      "Epoch 10/20\n",
      "39/39 [==============================] - 0s - loss: 10.4949\n",
      "Epoch 11/20\n",
      "39/39 [==============================] - 0s - loss: 10.1475\n",
      "Epoch 12/20\n",
      "39/39 [==============================] - 0s - loss: 9.8085\n",
      "Epoch 13/20\n",
      "39/39 [==============================] - 0s - loss: 9.4795\n",
      "Epoch 14/20\n",
      "39/39 [==============================] - 0s - loss: 9.1534\n",
      "Epoch 15/20\n",
      "39/39 [==============================] - 0s - loss: 8.8187\n",
      "Epoch 16/20\n",
      "39/39 [==============================] - 0s - loss: 8.4853\n",
      "Epoch 17/20\n",
      "39/39 [==============================] - 0s - loss: 8.1413\n",
      "Epoch 18/20\n",
      "39/39 [==============================] - 0s - loss: 7.7981\n",
      "Epoch 19/20\n",
      "39/39 [==============================] - 0s - loss: 7.4509\n",
      "Epoch 20/20\n",
      "39/39 [==============================] - 0s - loss: 7.0961\n",
      "mse: 19.9257\n"
     ]
    }
   ],
   "source": [
    "import os\n",
    "os.environ['KERAS_BACKEND'] = 'theano'  # tensorflow\n",
    "import keras\n",
    "\n",
    "model = keras.models.Sequential()\n",
    "model.add(keras.layers.Dense(output_dim=50, input_dim=nwords, activation='relu'))\n",
    "model.add(keras.layers.Dense(output_dim=20, activation='relu'))\n",
    "model.add(keras.layers.Dense(output_dim=1, activation='relu'))\n",
    "model.compile(loss='mse', optimizer='sgd')\n",
    "\n",
    "model.fit(X_train.toarray(), y_train, nb_epoch=20, batch_size=100)\n",
    "y_pred = model.predict(X_test.toarray(), batch_size=32)\n",
    "\n",
    "mse = evaluate(y_test, y_pred.squeeze())\n",
    "print('mse: {:.4f}'.format(mse))"
   ]
  },
  {
   "cell_type": "markdown",
   "metadata": {},
   "source": [
    "# 8 Evaluation\n",
    "\n",
    "Use [matplotlib](http://matplotlib.org) to plot a performance visualization. E.g. the true number of likes and the real number of likes for all posts / tweets.\n",
    "\n",
    "What do you observe ? What are your suggestions to improve the performance ?"
   ]
  },
  {
   "cell_type": "code",
   "execution_count": 11,
   "metadata": {
    "collapsed": false
   },
   "outputs": [
    {
     "data": {
      "image/png": "[encoded data removed]",
      "text/plain": [
       "<matplotlib.figure.Figure at 0x118f2d5f8>"
      ]
     },
     "metadata": {},
     "output_type": "display_data"
    }
   ],
   "source": [
    "from matplotlib import pyplot as plt\n",
    "plt.style.use('ggplot')\n",
    "%matplotlib inline\n",
    "\n",
    "n = 100\n",
    "plt.figure(figsize=(15, 5))\n",
    "plt.plot(y_test[:n], '.', alpha=.7, markersize=10, label='ground truth')\n",
    "plt.plot(y_pred[:n], '.', alpha=.7, markersize=10, label='prediction')\n",
    "plt.legend()\n",
    "plt.show()"
   ]
  }
 ],
 "metadata": {
  "anaconda-cloud": {},
  "kernelspec": {
   "display_name": "Python [default]",
   "language": "python",
   "name": "python3"
  },
  "language_info": {
   "codemirror_mode": {
    "name": "ipython",
    "version": 3
   },
   "file_extension": ".py",
   "mimetype": "text/x-python",
   "name": "python",
   "nbconvert_exporter": "python",
   "pygments_lexer": "ipython3",
   "version": "3.5.2"
  },
  "widgets": {
   "state": {
    "46126d8ae8ac45b58cd8598440341e67": {
     "views": [
      {
       "cell_index": 17
      }
     ]
    }
   },
   "version": "1.2.0"
  }
 },
 "nbformat": 4,
 "nbformat_minor": 1
}
